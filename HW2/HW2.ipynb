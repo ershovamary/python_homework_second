{
 "cells": [
  {
   "cell_type": "code",
   "execution_count": 36,
   "metadata": {},
   "outputs": [],
   "source": [
    "import urllib.request\n",
    "import json\n",
    "import operator\n",
    "from collections import Counter\n",
    "\n",
    "# Функция формирует список пользователей GitHub из заданного файла.\n",
    "def get_list():\n",
    "    with open(\"github_users.txt\", \"r\", encoding=\"utf-8\") as f:\n",
    "        return f.read().split(', ')"
   ]
  },
  {
   "cell_type": "code",
   "execution_count": 37,
   "metadata": {},
   "outputs": [],
   "source": [
    "# Функция запрашивает имя интересуемого пользователя\n",
    "# и проверяет его на соответствие списку.\n",
    "def choose_github_user(l):\n",
    "    s = 'Выберите пользователя GitHub из следующего списка:' + '\\n'.join(l)\n",
    "    name = input('\\n' + s)\n",
    "    if  name not in l:\n",
    "        while name not in l:\n",
    "            name = input('Такого пользователя нет в списке. Попробуйте ещё раз.\\n')\n",
    "    return name"
   ]
  },
  {
   "cell_type": "code",
   "execution_count": 38,
   "metadata": {
    "scrolled": true
   },
   "outputs": [],
   "source": [
    "# Функция запрашивает имя интересуемого пользователя\n",
    "# и выкачивает информацию о его репозиториях.\n",
    "# NB! Необходимо предоставить свой токен в файле \"token.txt\".\n",
    "def get_data_repos(github_user_name, s):\n",
    "    with open(\"token.txt\", \"r\") as f:\n",
    "        token = f.read()\n",
    "    url = \"https://api.github.com/users/{}/{}?access_token={}&per_page=100\".format(github_user_name, s, token)  \n",
    "    response = urllib.request.urlopen(url)\n",
    "    text = response.read().decode(\"utf-8\")\n",
    "    return json.loads(text)"
   ]
  },
  {
   "cell_type": "code",
   "execution_count": 39,
   "metadata": {},
   "outputs": [],
   "source": [
    "# Функция распечатывает список репозиториев интересуемого\n",
    "# пользователя с описаниями, а также языки, которые пользователь\n",
    "# использует и кол-во репозиториев, в которых они используются.\n",
    "def get_basic_info(github_user_name):\n",
    "    print('Вы выбрали пользователя {}.'.format(github_user_name))\n",
    "    print('Вот список его репозиториев:')\n",
    "    data = get_data_repos(github_user_name, \"repos\")\n",
    "    languages = []\n",
    "    for i in data:\n",
    "        print('{}:\\t{}'.format(i[\"name\"],i[\"description\"]))\n",
    "        lang = i[\"language\"]\n",
    "        if lang != None:\n",
    "            languages.append(lang)\n",
    "    print('Пользователь {} пишет на {}.'.format(github_user_name, \", \".join(set(languages)).lstrip(\", \")))\n",
    "    for language, occurance in Counter(languages).items():\n",
    "        if occurance != 1:\n",
    "            print('Язык {} используется в {} репозиториях.'.format(language, occurance))\n",
    "        else:\n",
    "            print('Язык {} используется в {} репозитории.'.format(language, occurance))"
   ]
  },
  {
   "cell_type": "code",
   "execution_count": 40,
   "metadata": {
    "scrolled": false
   },
   "outputs": [],
   "source": [
    "def main():\n",
    "    print('Добро пожаловать в программу \"Забань меня GitHub\"!') #название программы -- шутка, необходимая, чтобы выпустить пар. Если не понравилась, прошу прощения.\n",
    "    github_user_name = choose_github_user(get_list())\n",
    "    get_basic_info(github_user_name)"
   ]
  },
  {
   "cell_type": "code",
   "execution_count": 41,
   "metadata": {},
   "outputs": [
    {
     "name": "stdout",
     "output_type": "stream",
     "text": [
      "Из списка пользователей больше всего репозиториев у пользователя JelteF.\n",
      "Самый популярный язык среди пользователей из списка: Python.\n"
     ]
    }
   ],
   "source": [
    "    pop_users = {}\n",
    "    pop_languages = {}\n",
    "    for name in get_list():\n",
    "        l = get_data_repos(name, \"repos\")\n",
    "        pop_users[name] = len(l)\n",
    "        for i in l:\n",
    "            lang = i[\"language\"]\n",
    "            if lang in pop_languages:\n",
    "                pop_languages[lang] += 1\n",
    "            else:\n",
    "                pop_languages[lang] = 1\n",
    "    popular_user = max(pop_users.items(), key=operator.itemgetter(1))[0]\n",
    "    popular_language = max(pop_languages.items(), key=operator.itemgetter(1))[0]\n",
    "    print(\"Из списка пользователей больше всего репозиториев у пользователя {}.\".format(popular_user))\n",
    "    print(\"Самый популярный язык среди пользователей из списка: {}.\".format(popular_language))"
   ]
  },
  {
   "cell_type": "code",
   "execution_count": 42,
   "metadata": {
    "scrolled": false
   },
   "outputs": [
    {
     "name": "stdout",
     "output_type": "stream",
     "text": [
      "Больше всего подписчиков у пользователя demidovakatya.\n"
     ]
    }
   ],
   "source": [
    "    for name in get_list():\n",
    "        pop_users[name] = len(get_data_repos(name, \"followers\"))\n",
    "    popular_user = max(pop_users.items(), key=operator.itemgetter(1))[0]\n",
    "    print(\"Больше всего подписчиков у пользователя {}.\".format(popular_user))"
   ]
  },
  {
   "cell_type": "code",
   "execution_count": 43,
   "metadata": {},
   "outputs": [
    {
     "name": "stdout",
     "output_type": "stream",
     "text": [
      "Добро пожаловать в программу \"Забань меня GitHub\"!\n",
      "\n",
      "Выберите пользователя GitHub из следующего списка:elmiram\n",
      "maryszmary\n",
      "lizaku\n",
      "nevmenandr\n",
      "ancatmara\n",
      "roctbb\n",
      "akutuzov\n",
      "agricolamz\n",
      "lehkost\n",
      "kylepjohnson\n",
      "mikekestemont\n",
      "demidovakatya\n",
      "shwars\n",
      "JelteF\n",
      "timgraham\n",
      "arogozhnikov\n",
      "jasny\n",
      "bcongdon\n",
      "whyisjake\n",
      "gvanrossumelmiram\n",
      "Вы выбрали пользователя elmiram.\n",
      "Вот список его репозиториев:\n",
      "19thcentury:\tNone\n",
      "2016learnpython:\tPython Teaching, Seminars for 2nd year students of School of Linguistics NRU HSE\n",
      "2017learnpython:\tPython Teaching, Seminars for 3rd year students of School of Linguistics NRU HSE\n",
      "animal_sounds_graph_project:\tNone\n",
      "ASD_children_corpus:\tNone\n",
      "children_texts_corpus:\tStartWrit corpus is a collection of texts written by elementary school children.\n",
      "computer-science-flash-cards:\tMini website for testing both general CS knowledge and enforce coding practice and common algorithm/data structure memorization.\n",
      "constructicon:\tNone\n",
      "elmiram.github.io:\tResume\n",
      "EmotionAnalysisInVideo:\tTracker of basic emotions of a movie character built with Microsoft Computer Vision Services\n",
      "google-interview-university:\tA complete daily plan for studying to become a Google software engineer.\n",
      "HarryPotterBot:\tBot uses words from Harry Potter books to generate phases.\n",
      "hh-1-1-git-commands:\tNone\n",
      "hh-1-1-repoA:\tNone\n",
      "hh-1-1-repoB:\tNone\n",
      "hh-1-2-frontik-no-testing:\tNone\n",
      "hh-1-2-frontik-testing:\tNone\n",
      "hh-1-2-git-commands:\tNone\n",
      "hh-unix-assignment:\tNone\n",
      "homework:\tthis is programming homework\n",
      "hselingprojects:\tWebsite to showcase projects that are developed at School of Linguistics\n",
      "learner_corpus:\tNone\n",
      "logo_compiler:\tNone\n",
      "pythonvjs:\tPython versus JS: comparative tables\n",
      "riichicount:\tRiichi mahjong: test on hand cost calculation. riichicount.pythonanywhere.com\n",
      "RusDisamb:\tScripts for disambiguation workshop\n",
      "russian_learner_corpus:\tRussian Learner Corpus, a platform for corpus search and annotation\n",
      "RusTokenizer:\tSplitter and tokenizer for Russian\n",
      "seq2seq_chatbot:\tSequence-to-Sequence chatbot using tensorflow\n",
      "txt2prs:\ttxt2prs\n",
      "vd:\tOnline dictionary for NRU HSE School of Linguistics\n",
      "Yiddish:\tDisambiguation for Yiddish\n",
      "Пользователь elmiram пишет на JavaScript, Shell, Python, CSS, HTML, C#, Jupyter Notebook.\n",
      "Язык JavaScript используется в 6 репозиториях.\n",
      "Язык Jupyter Notebook используется в 2 репозиториях.\n",
      "Язык CSS используется в 1 репозитории.\n",
      "Язык HTML используется в 5 репозиториях.\n",
      "Язык Python используется в 11 репозиториях.\n",
      "Язык C# используется в 1 репозитории.\n",
      "Язык Shell используется в 1 репозитории.\n"
     ]
    }
   ],
   "source": [
    "if __name__ == \"__main__\":\n",
    "    main()"
   ]
  }
 ],
 "metadata": {
  "kernelspec": {
   "display_name": "Python 3",
   "language": "python",
   "name": "python3"
  },
  "language_info": {
   "codemirror_mode": {
    "name": "ipython",
    "version": 3
   },
   "file_extension": ".py",
   "mimetype": "text/x-python",
   "name": "python",
   "nbconvert_exporter": "python",
   "pygments_lexer": "ipython3",
   "version": "3.7.0"
  }
 },
 "nbformat": 4,
 "nbformat_minor": 2
}
