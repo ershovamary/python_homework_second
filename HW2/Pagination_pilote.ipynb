{
 "cells": [
  {
   "cell_type": "code",
   "execution_count": 40,
   "metadata": {},
   "outputs": [
    {
     "name": "stdout",
     "output_type": "stream",
     "text": [
      "30\n"
     ]
    }
   ],
   "source": [
    "import urllib.request\n",
    "import json\n",
    "import requests\n",
    "import re\n",
    "\n",
    "#Данный способ ломается в основной программе во время создания test_url, то есть он не сочетается с функцией format.\n",
    "url = \"http://api.github.com/users/ancatmara/repos?page={0}\"\n",
    "with open(\"token.txt\", \"r\") as f:\n",
    "        token = f.read()\n",
    "response = requests.get(url)\n",
    "link = response.headers.get('link', None)\n",
    "if link is not None:\n",
    "    match = re.search('([0-9]+)>; rel=\"last\"',link)\n",
    "    n = match.group(1)\n",
    "data = []\n",
    "for i in range(int(n)):\n",
    "    url = \"https://api.github.com/users/ancatmara/repos?access_token={}&page={}\".format(token, i)\n",
    "    response = urllib.request.urlopen(url)\n",
    "    text = response.read().decode(\"utf-8\")\n",
    "    data += json.loads(text)\n",
    "print(len(data))"
   ]
  }
 ],
 "metadata": {
  "kernelspec": {
   "display_name": "Python 3",
   "language": "python",
   "name": "python3"
  },
  "language_info": {
   "codemirror_mode": {
    "name": "ipython",
    "version": 3
   },
   "file_extension": ".py",
   "mimetype": "text/x-python",
   "name": "python",
   "nbconvert_exporter": "python",
   "pygments_lexer": "ipython3",
   "version": "3.7.0"
  }
 },
 "nbformat": 4,
 "nbformat_minor": 2
}
